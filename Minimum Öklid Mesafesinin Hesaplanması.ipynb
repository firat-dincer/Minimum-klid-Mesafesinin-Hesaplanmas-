{
 "cells": [
  {
   "cell_type": "markdown",
   "metadata": {},
   "source": [
    "1. Noktaların Tanımlanması:\n",
    "\n",
    "\"points\" adında bir liste oluşturacağız. Bu liste, 2D uzaydaki noktaları temsil eden demetler (tuple) içerecek. Örneğin, bir nokta (x, y) olarak temsil edilecektir. Grafiği baz alacak olursak bizim sadece iki noktamız var."
   ]
  },
  {
   "cell_type": "code",
   "execution_count": 1,
   "metadata": {},
   "outputs": [],
   "source": [
    "#points =[(x1,y1),(x2,y2)]\n",
    "\n",
    "points = [(1,1), (2.75,3.5)] "
   ]
  },
  {
   "cell_type": "markdown",
   "metadata": {},
   "source": [
    "1.Öklid Mesafesi İçin Bir Fonksiyon Yazma:\n",
    "\n",
    "\"euclideanDistance\" adında bir fonksiyon tanımlayacağız. Bu fonksiyon, iki nokta (her biri bir demet olarak temsil edilir; 1. nokta => (x1,y1), 2. nokta => (x2,y2)) alacak ve bu iki nokta arasındaki Öklid mesafesini döndürecektir.\n"
   ]
  },
  {
   "cell_type": "code",
   "execution_count": 2,
   "metadata": {},
   "outputs": [],
   "source": [
    "def euclideanDistance(point1, point2):\n",
    "    return ((point2[0] - point1[0])**2 + (point2[1] - point1[1])**2)**0.5"
   ]
  },
  {
   "cell_type": "markdown",
   "metadata": {},
   "source": [
    "Mesafelerin Hesaplanması:\n",
    "\n",
    "Bir döngü kullanarak, points listesindeki her nokta çifti arasındaki Öklid mesafesini hesaplayacağız. Bu mesafeleri distances adında başka bir listede saklayacağız."
   ]
  },
  {
   "cell_type": "code",
   "execution_count": 3,
   "metadata": {},
   "outputs": [],
   "source": [
    "distances = []\n",
    "for i in range(len(points)):\n",
    "    for j in range(i + 1, len(points)):\n",
    "        distance = euclideanDistance(points[i], points[j])\n",
    "        distances.append(distance)"
   ]
  },
  {
   "cell_type": "markdown",
   "metadata": {},
   "source": [
    "Minimum Mesafenin Bulunması:\n",
    "\n",
    "\"distances\" listesinden minimum mesafeyi bulup yazdırıyoruz."
   ]
  },
  {
   "cell_type": "code",
   "execution_count": 4,
   "metadata": {},
   "outputs": [
    {
     "name": "stdout",
     "output_type": "stream",
     "text": [
      "Minimum Öklid Mesafesi: 3.0516389039334255\n"
     ]
    }
   ],
   "source": [
    "min_distance = min(distances)\n",
    "print(f\"Minimum Öklid Mesafesi: {min_distance}\")"
   ]
  }
 ],
 "metadata": {
  "kernelspec": {
   "display_name": "Python 3 (ipykernel)",
   "language": "python",
   "name": "python3"
  },
  "language_info": {
   "codemirror_mode": {
    "name": "ipython",
    "version": 3
   },
   "file_extension": ".py",
   "mimetype": "text/x-python",
   "name": "python",
   "nbconvert_exporter": "python",
   "pygments_lexer": "ipython3",
   "version": "3.10.13"
  }
 },
 "nbformat": 4,
 "nbformat_minor": 2
}
